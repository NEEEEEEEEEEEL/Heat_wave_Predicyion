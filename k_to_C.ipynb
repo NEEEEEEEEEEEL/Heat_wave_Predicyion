{
 "cells": [
  {
   "cell_type": "code",
   "execution_count": 12,
   "id": "ba8be136-eed6-4cda-930b-b16721b9c1f5",
   "metadata": {},
   "outputs": [
    {
     "name": "stdout",
     "output_type": "stream",
     "text": [
      "DONE\n"
     ]
    }
   ],
   "source": [
    "import os\n",
    "import pandas as pd\n",
    "\n",
    "# Define the function to convert Kelvin to Celsius\n",
    "def kelvin_to_celsius(kelvin_value):\n",
    "    return kelvin_value - 273.15\n",
    "\n",
    "# Path to the directory containing CSV files\n",
    "directory_path = \"2024_mrt_csv_with_utci\"\n",
    "\n",
    "# Loop through each file in the directory\n",
    "for filename in os.listdir(directory_path):\n",
    "    if filename.endswith(\".csv\"):  # Check if the file is a CSV\n",
    "        file_path = os.path.join(directory_path, filename)\n",
    "        \n",
    "        # Read the CSV file into a DataFrame\n",
    "        df = pd.read_csv(file_path)\n",
    "        \n",
    "        # Check if 'MRT' and 'UTCI' columns exist in the CSV\n",
    "        if 'mrt' in df.columns and 'mrt' in df.columns:\n",
    "            # Create new columns with MRT and UTCI in Celsius\n",
    "            df['MRT_Celsius'] = df['mrt'].apply(kelvin_to_celsius)\n",
    "            df['UTCI_Celsius'] = df['utci'].apply(kelvin_to_celsius)\n",
    "            \n",
    "            # Save the modified DataFrame back to CSV (optional)\n",
    "            df.to_csv(file_path, index=False)  # Overwrite the file with the new columns\n",
    "\n",
    "print(\"DONE\")         "
   ]
  }
 ],
 "metadata": {
  "kernelspec": {
   "display_name": "Python 3 (ipykernel)",
   "language": "python",
   "name": "python3"
  },
  "language_info": {
   "codemirror_mode": {
    "name": "ipython",
    "version": 3
   },
   "file_extension": ".py",
   "mimetype": "text/x-python",
   "name": "python",
   "nbconvert_exporter": "python",
   "pygments_lexer": "ipython3",
   "version": "3.11.5"
  }
 },
 "nbformat": 4,
 "nbformat_minor": 5
}
